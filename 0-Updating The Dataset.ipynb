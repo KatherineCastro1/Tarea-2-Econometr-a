{
  "nbformat": 4,
  "nbformat_minor": 0,
  "metadata": {
    "colab": {
      "provenance": []
    },
    "kernelspec": {
      "name": "python3",
      "display_name": "Python 3"
    },
    "language_info": {
      "name": "python"
    }
  },
  "cells": [
    {
      "cell_type": "markdown",
      "source": [
        "Alumna: Katherine Nicole Castro Vega\n",
        "Código: 18120083"
      ],
      "metadata": {
        "id": "I3pnqfUZGAIX"
      }
    },
    {
      "cell_type": "markdown",
      "source": [
        "0. Updating The Dataset"
      ],
      "metadata": {
        "id": "1n8b0mHlGJkw"
      }
    },
    {
      "cell_type": "code",
      "execution_count": 1,
      "metadata": {
        "id": "YU8eqtfm5GwC",
        "colab": {
          "base_uri": "https://localhost:8080/"
        },
        "outputId": "1e225804-6ea1-412d-fd5a-4c3443c9c296"
      },
      "outputs": [
        {
          "output_type": "stream",
          "name": "stdout",
          "text": [
            "[*********************100%%**********************]  4 of 4 completed\n",
            "                   spx          dax         ftse        nikkei\n",
            "                                                              \n",
            "Date                                                          \n",
            "1994-01-10  475.269989  2225.000000  3440.600098  18443.439453\n",
            "1994-01-11  474.130005  2228.100098  3413.800049  18485.250000\n",
            "1994-01-12  474.170013  2182.060059  3372.000000  18793.880859\n",
            "1994-01-13  472.470001  2142.370117  3360.000000  18577.259766\n",
            "1994-01-14  474.910004  2151.050049  3400.600098  18973.699219\n",
            "                    spx           dax         ftse        nikkei\n",
            "                                                                \n",
            "Date                                                            \n",
            "2023-09-15  4450.319824  15893.530273  7711.399902  33533.089844\n",
            "2023-09-18  4453.529785  15727.120117  7652.899902  33533.089844\n",
            "2023-09-19  4443.950195  15664.480469  7660.200195  33242.589844\n",
            "2023-09-20  4402.200195  15781.589844  7731.700195  33023.781250\n",
            "2023-09-21  4330.000000  15571.860352  7678.600098  32571.029297\n"
          ]
        }
      ],
      "source": [
        "#Importando el paquete necesario\n",
        "import yfinance\n",
        "\n",
        "#Ignorar mensajes de advertencia\n",
        "import warnings\n",
        "warnings.filterwarnings(\"ignore\")\n",
        "\n",
        "# Usando el método .download() para obtener datos\n",
        "\n",
        "raw_data = yfinance.download (tickers = \"^GSPC ^FTSE ^N225 ^GDAXI\", start = \"1994-01-07\", end = \"2023-09-22\", interval = \"1d\", group_by = 'ticker', auto_adjust = True, threads = True)\n",
        "\n",
        "# tickers -> Series temporales (en este caso, S&P, FTSE, NIKKEI y DAX)\n",
        "# start -> La fecha de inicio del data set\n",
        "# end -> La fecha de finalización del data set\n",
        "# interval -> La distancia en el tiempo entre dos observaciones\n",
        "# group_by -> La forma en que se agrupan los datos extraídos\n",
        "# auto_adjust -> Ajusta automáticamente los precios de cierre de cada período\n",
        "# treads - > Por si se deben utilizar subprocesos para descargas masivas.\n",
        "\n",
        "\n",
        "# Crear una copia de seguridad en caso de que  se elimine/altere elementos de los datos por error\n",
        "df_comp = raw_data.copy()\n",
        "# Agregar nuevas columnas al data set\n",
        "df_comp['spx'] = df_comp['^GSPC'].Close\n",
        "df_comp['dax'] = df_comp['^GDAXI'].Close\n",
        "df_comp['ftse'] = df_comp['^FTSE'].Close\n",
        "df_comp['nikkei'] = df_comp['^N225'].Close\n",
        "df_comp = df_comp.iloc[1:] # Elimina los primeros elementos, ya que siempre comienza 1 período antes del primero, por las diferencias de zona horaria en los precios de cierre\n",
        "del df_comp['^N225']  # Eliminando los tickers originales del data set\n",
        "del df_comp['^GSPC']\n",
        "del df_comp['^GDAXI']\n",
        "del df_comp['^FTSE']\n",
        "df_comp=df_comp.asfreq('b') # Establece la frecuencia de los datos\n",
        "df_comp=df_comp.fillna(method='ffill') # Completa los valores faltantes\n",
        "print (df_comp.head()) # Muestra los primeros 5 elementos para asegurarse de que los datos se hayan extraído correctamente\n",
        "print (df_comp.tail()) # Asegura que el último día que incluye en la serie sea correcto"
      ]
    }
  ]
}